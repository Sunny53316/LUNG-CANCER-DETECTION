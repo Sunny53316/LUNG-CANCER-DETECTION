{
  "nbformat": 4,
  "nbformat_minor": 0,
  "metadata": {
    "colab": {
      "provenance": [],
      "authorship_tag": "ABX9TyMgts4CURBNlW2Guw1syhIg",
      "include_colab_link": true
    },
    "kernelspec": {
      "name": "python3",
      "display_name": "Python 3"
    },
    "language_info": {
      "name": "python"
    }
  },
  "cells": [
    {
      "cell_type": "markdown",
      "metadata": {
        "id": "view-in-github",
        "colab_type": "text"
      },
      "source": [
        "<a href=\"https://colab.research.google.com/github/Sunny53316/LUNG-CANCER-DETECTION/blob/main/Untitled0.ipynb\" target=\"_parent\"><img src=\"https://colab.research.google.com/assets/colab-badge.svg\" alt=\"Open In Colab\"/></a>"
      ]
    },
    {
      "cell_type": "code",
      "execution_count": null,
      "metadata": {
        "colab": {
          "base_uri": "https://localhost:8080/"
        },
        "id": "HUrMVz3ugLpG",
        "outputId": "bb825748-7ccd-4c81-fde2-9e6e5e009e34"
      },
      "outputs": [
        {
          "output_type": "stream",
          "name": "stdout",
          "text": [
            "Current Number 0Previous Number 0sum0\n",
            "Current Number 1Previous Number 0sum1\n",
            "Current Number 2Previous Number 1sum3\n",
            "Current Number 3Previous Number 2sum5\n",
            "Current Number 4Previous Number 3sum7\n",
            "Current Number 5Previous Number 4sum9\n",
            "Current Number 6Previous Number 5sum11\n",
            "Current Number 7Previous Number 6sum13\n",
            "Current Number 8Previous Number 7sum15\n",
            "Current Number 9Previous Number 8sum17\n"
          ]
        }
      ],
      "source": [
        "num = list(range(10))\n",
        "previousNum = 0\n",
        "for i in num:\n",
        "    sum = previousNum + i\n",
        "    print('Current Number '+ str(i) + 'Previous Number ' + str(previousNum) + 'sum' + str(sum))\n",
        "    previousNum=i"
      ]
    },
    {
      "cell_type": "code",
      "source": [
        "string = input(\"Please enter your input\")\n",
        "for i in string:\n",
        "    if (string.index(i))%2==0:\n",
        "        print(i)"
      ],
      "metadata": {
        "colab": {
          "base_uri": "https://localhost:8080/"
        },
        "id": "82-RLOuelZSa",
        "outputId": "d4dd9592-416d-4bfe-ca7b-dc8a07425e1d"
      },
      "execution_count": null,
      "outputs": [
        {
          "output_type": "stream",
          "name": "stdout",
          "text": [
            "Please enter your input23456\n",
            "2\n",
            "4\n",
            "6\n"
          ]
        }
      ]
    },
    {
      "cell_type": "code",
      "source": [
        "y=input (\"enter a string\")\n",
        "c=len(y)\n",
        "for i in range (c):\n",
        "  if(i%2!=0):\n",
        "    print(i)"
      ],
      "metadata": {
        "colab": {
          "base_uri": "https://localhost:8080/"
        },
        "id": "QRcufn_GoFaB",
        "outputId": "cbb5d832-729a-46f9-a51c-265f1ca3481d"
      },
      "execution_count": null,
      "outputs": [
        {
          "output_type": "stream",
          "name": "stdout",
          "text": [
            "enter a string123456\n",
            "1\n",
            "3\n",
            "5\n"
          ]
        }
      ]
    },
    {
      "cell_type": "code",
      "source": [
        "print(\"current number\",0,\"prev number\",0,\"sum:\",0)\n",
        "for i in range(1,10):\n",
        "  print (\"currentr number\",i,\"prev number\",i-1,\"sum:\",i+(i-1))"
      ],
      "metadata": {
        "colab": {
          "base_uri": "https://localhost:8080/"
        },
        "id": "s8tV9ftKpOyr",
        "outputId": "825f7baf-97d9-48f0-f1d7-68dc87d34be9"
      },
      "execution_count": null,
      "outputs": [
        {
          "output_type": "stream",
          "name": "stdout",
          "text": [
            "current number 0 prev number 0 sum: 0\n",
            "currentr number 1 prev number 0 sum: 1\n",
            "currentr number 2 prev number 1 sum: 3\n",
            "currentr number 3 prev number 2 sum: 5\n",
            "currentr number 4 prev number 3 sum: 7\n",
            "currentr number 5 prev number 4 sum: 9\n",
            "currentr number 6 prev number 5 sum: 11\n",
            "currentr number 7 prev number 6 sum: 13\n",
            "currentr number 8 prev number 7 sum: 15\n",
            "currentr number 9 prev number 8 sum: 17\n"
          ]
        }
      ]
    },
    {
      "cell_type": "code",
      "source": [
        "list = [6, 2, 3, 4, 5,]\n",
        "if list[0] == list[-1]:\n",
        "  print(\"The first and last numbers are same.\")\n",
        "else:\n",
        "  print(\"The first and last numbers are not  same.\")"
      ],
      "metadata": {
        "colab": {
          "base_uri": "https://localhost:8080/"
        },
        "id": "-u9m80QIrPUV",
        "outputId": "e65b2a8f-0d43-4e91-97e6-46ccabbdd9ab"
      },
      "execution_count": null,
      "outputs": [
        {
          "output_type": "stream",
          "name": "stdout",
          "text": [
            "The first and last numbers are not  same.\n"
          ]
        }
      ]
    }
  ]
}